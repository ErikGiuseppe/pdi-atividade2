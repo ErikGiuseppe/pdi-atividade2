{
  "cells": [
    {
      "cell_type": "code",
      "execution_count": 1,
      "metadata": {
        "id": "Uiqx0OauWEe5"
      },
      "outputs": [],
      "source": [
        "import cv2\n",
        "import matplotlib.pyplot as plt\n",
        "import numpy as np"
      ]
    },
    {
      "cell_type": "code",
      "execution_count": 63,
      "metadata": {
        "id": "T2euLwo_WEe5"
      },
      "outputs": [],
      "source": [
        "## implementar a função que identifica a bandeira\n",
        "## a função deve receber uma imagem e retornar a bandeira identificada\n",
        "## a função deve retornar uma lista de tuplas, onde cada tupla contém as coordenadas de um dos cantos da bandeira\n",
        "## [(PAIS, (x1, y2), (x2, y2)`),(PAIS, (x1, y2), (x2, y2)`),(PAIS, (x1, y2), (x2, y2)`),...]\n",
        "\n",
        "def calcula_proporcao_cor(hsv_roi, lower, upper):\n",
        "    \"\"\"Calcula a proporção de pixels dentro do intervalo de cor.\"\"\"\n",
        "    mask = cv2.inRange(hsv_roi, lower, upper)\n",
        "    total_pixels = hsv_roi.size\n",
        "    return cv2.countNonZero(mask) / total_pixels\n",
        "\n",
        "def identifica_bandeira(img):\n",
        "    hsv = cv2.cvtColor(img, cv2.COLOR_BGR2HSV)\n",
        "\n",
        "\n",
        "    cores = {\n",
        "    \"red\": [(np.array([0, 70, 50]), np.array([10, 255, 255])),\n",
        "            (np.array([170, 70, 50]), np.array([180, 255, 255]))],\n",
        "    \"white\": [(np.array([0, 0, 150]), np.array([180, 30, 255]))],\n",
        "    \"green\": [(np.array([35, 50, 50]), np.array([85, 255, 255]))],\n",
        "    \"orange\": [(np.array([5, 100, 100]), np.array([35, 255, 255]))]\n",
        "    }\n",
        "\n",
        "\n",
        "    gray = cv2.cvtColor(img, cv2.COLOR_BGR2GRAY)\n",
        "    _, thresh = cv2.threshold(gray, 1, 255, cv2.THRESH_BINARY)\n",
        "    contours, _ = cv2.findContours(thresh, cv2.RETR_EXTERNAL, cv2.CHAIN_APPROX_SIMPLE)\n",
        "\n",
        "    flags = []\n",
        "\n",
        "    for contour in contours:\n",
        "        area = cv2.contourArea(contour)\n",
        "\n",
        "        if area > 100:\n",
        "            x, y, w, h = cv2.boundingRect(contour)\n",
        "            roi = img[y:y+h, x:x+w]\n",
        "            hsv_roi = cv2.cvtColor(roi, cv2.COLOR_BGR2HSV)\n",
        "\n",
        "\n",
        "            red_prop = sum(calcula_proporcao_cor(hsv_roi, lower, upper) for lower, upper in cores[\"red\"])\n",
        "            white_prop = sum(calcula_proporcao_cor(hsv_roi, lower, upper) for lower, upper in cores[\"white\"])\n",
        "            green_prop = sum(calcula_proporcao_cor(hsv_roi, lower, upper) for lower, upper in cores[\"green\"])\n",
        "            orange_prop = sum(calcula_proporcao_cor(hsv_roi, lower, upper) for lower, upper in cores[\"orange\"])\n",
        "\n",
        "\n",
        "            print(f\"Proporções para (x={x}, y={y}):\")\n",
        "            print(f\"Vermelho: {red_prop}, Branco: {white_prop}, Verde: {green_prop}, Laranja: {orange_prop}\")\n",
        "\n",
        "\n",
        "            country = \"Não reconhecido\"\n",
        "            conditions = [\n",
        "                {\"condition\": red_prop >= 0.16 and white_prop >= 0.16 and green_prop < 0.1 and orange_prop < 0.1 , \"pais\": \"monaco\"},\n",
        "\n",
        "                {\"condition\": red_prop >= 0.2 and white_prop >= 0.1 and green_prop < 0.1 and orange_prop < 0.1, \"pais\": \"peru\"},\n",
        "                {\"condition\": red_prop <= 0.16 and white_prop > 0.16 and green_prop < 0.1 and orange_prop < 0.1 , \"pais\": \"singapura\"},\n",
        "                {\"condition\": green_prop >= 0.1 and white_prop >= 0.1 and orange_prop >= 0.1 and red_prop < 0.1, \"pais\": \"irlanda\"},\n",
        "                {\"condition\": green_prop >= 0.1 and white_prop >= 0.1 and red_prop >= 0.1 and orange_prop < 0.1, \"pais\": \"italia\"}\n",
        "            ]\n",
        "\n",
        "            for condition in conditions:\n",
        "                if condition[\"condition\"]:\n",
        "                    country = condition[\"pais\"]\n",
        "                    break\n",
        "\n",
        "\n",
        "            flags.append((country, (x, y), (x + w, y + h)))\n",
        "\n",
        "    return flags\n"
      ]
    },
    {
      "cell_type": "code",
      "execution_count": null,
      "metadata": {
        "id": "qNYPo8RRWEe6"
      },
      "outputs": [],
      "source": []
    },
    {
      "cell_type": "code",
      "execution_count": null,
      "metadata": {
        "id": "Au25afHFWEe6"
      },
      "outputs": [],
      "source": []
    },
    {
      "cell_type": "code",
      "execution_count": 30,
      "metadata": {
        "id": "YWBbKRsmWEe6"
      },
      "outputs": [],
      "source": [
        "## nao alterar essa função\n",
        "# Função para desenhar as bandeiras identificadas\n",
        "def draw_bandeiras(lista_bandeiras, bgr):\n",
        "    try:\n",
        "        for bandeira in lista_bandeiras:\n",
        "            cv2.rectangle(bgr, bandeira[1], bandeira[2], (255, 0, 0), 5)\n",
        "            cv2.putText(bgr, bandeira[0], bandeira[1], cv2.FONT_HERSHEY_SIMPLEX, 1, (255, 0, 0), 2, cv2.LINE_AA)\n",
        "        return bgr\n",
        "    except Exception as e:\n",
        "        return bgr"
      ]
    },
    {
      "cell_type": "code",
      "execution_count": 69,
      "metadata": {
        "colab": {
          "base_uri": "https://localhost:8080/",
          "height": 1000
        },
        "id": "0QFK2J-UWEe6",
        "outputId": "8a001335-5cf4-4e4c-b83b-a5a367f77184"
      },
      "outputs": [
        {
          "output_type": "stream",
          "name": "stdout",
          "text": [
            "Proporções para (x=192, y=496):\n",
            "Vermelho: 0.15766376934492263, Branco: 0.17352837255317646, Verde: 0.0, Laranja: 0.0\n",
            "Proporções para (x=726, y=163):\n",
            "Vermelho: 0.16586151368760063, Branco: 0.16586151368760063, Verde: 0.0, Laranja: 0.0\n",
            "Proporções para (x=118, y=121):\n",
            "Vermelho: 0.2217852616331704, Branco: 0.10963606735469854, Verde: 0.0, Laranja: 0.0\n",
            "Proporções para (x=705, y=589):\n",
            "Vermelho: 0.0, Branco: 0.10862978341375827, Verde: 0.11068716567538249, Laranja: 0.11068716567538249\n",
            "Proporções para (x=343, y=298):\n",
            "Vermelho: 0.11069182389937107, Branco: 0.10881569129090715, Verde: 0.11194257897168035, Laranja: 0.0\n",
            "Proporções para (x=751, y=445):\n",
            "Vermelho: 0.22264631043256997, Branco: 0.11005452562704471, Verde: 0.0, Laranja: 0.0\n",
            "Proporções para (x=125, y=261):\n",
            "Vermelho: 0.15591945966611445, Branco: 0.17331464253854975, Verde: 0.0, Laranja: 0.0\n",
            "Proporções para (x=767, y=496):\n",
            "Vermelho: 0.22053231939163498, Branco: 0.10901313515381957, Verde: 0.0, Laranja: 0.0\n",
            "Proporções para (x=84, y=477):\n",
            "Vermelho: 0.11194257897168035, Branco: 0.10881569129090715, Verde: 0.1119496855345912, Laranja: 0.0\n",
            "Proporções para (x=752, y=114):\n",
            "Vermelho: 0.0, Branco: 0.11027568922305764, Verde: 0.11152882205513784, Laranja: 0.11027568922305764\n"
          ]
        },
        {
          "output_type": "display_data",
          "data": {
            "text/plain": [
              "<Figure size 1000x2000 with 4 Axes>"
            ],
            "image/png": "[encoded data removed]"
          },
          "metadata": {}
        }
      ],
      "source": [
        "## Para testar a função identifica_bandeira\n",
        "\n",
        "# Você pode testar a função identifica_bandeira com as imagens de teste fornecidas\n",
        "#\n",
        "\n",
        "\n",
        "imgs = [\n",
        "    cv2.imread('img/teste1.png'),\n",
        "    cv2.imread('img/teste2.png'),\n",
        "    cv2.imread('img/teste3.png'),\n",
        "    cv2.imread('img/teste4.png')\n",
        "]\n",
        "\n",
        "\n",
        "fig, axs = plt.subplots(4, 1, figsize=(10, 20))\n",
        "\n",
        "\n",
        "for i, img in enumerate(imgs):\n",
        "\n",
        "    resultado = identifica_bandeira(img)\n",
        "\n",
        "\n",
        "    bgr = draw_bandeiras(resultado, img)\n",
        "\n",
        "\n",
        "    rgb_img = cv2.cvtColor(bgr, cv2.COLOR_BGR2RGB)\n",
        "\n",
        "\n",
        "    axs[i].imshow(rgb_img)\n",
        "    axs[i].axis('off')\n",
        "\n",
        "\n",
        "plt.show()\n",
        "\n"
      ]
    },
    {
      "cell_type": "code",
      "execution_count": null,
      "metadata": {
        "id": "zFcWxuBLWEe6"
      },
      "outputs": [],
      "source": []
    }
  ],
  "metadata": {
    "kernelspec": {
      "display_name": "Python 3",
      "language": "python",
      "name": "python3"
    },
    "language_info": {
      "codemirror_mode": {
        "name": "ipython",
        "version": 3
      },
      "file_extension": ".py",
      "mimetype": "text/x-python",
      "name": "python",
      "nbconvert_exporter": "python",
      "pygments_lexer": "ipython3",
      "version": "3.9.6"
    },
    "colab": {
      "provenance": []
    }
  },
  "nbformat": 4,
  "nbformat_minor": 0
}